{
  "nbformat": 4,
  "nbformat_minor": 0,
  "metadata": {
    "colab": {
      "provenance": [],
      "authorship_tag": "ABX9TyMriKbN/WwICNGGsMXT+oIP",
      "include_colab_link": true
    },
    "kernelspec": {
      "name": "python3",
      "display_name": "Python 3"
    },
    "language_info": {
      "name": "python"
    }
  },
  "cells": [
    {
      "cell_type": "markdown",
      "metadata": {
        "id": "view-in-github",
        "colab_type": "text"
      },
      "source": [
        "<a href=\"https://colab.research.google.com/github/Shadowfire7/Blower_pipe/blob/main/Untitled0.ipynb\" target=\"_parent\"><img src=\"https://colab.research.google.com/assets/colab-badge.svg\" alt=\"Open In Colab\"/></a>"
      ]
    },
    {
      "cell_type": "code",
      "source": [
        "import random\n",
        " \n",
        "a = random.randint(1,25)\n",
        "b = int(input(\"input a number: \"))\n",
        "c = int(input(\"input a number: \"))\n",
        "d = int(input(\"input a number: \"))\n",
        "\n",
        "if a==b:\n",
        "  print(\"you got it right on th first try\")\n",
        "elif a==c:\n",
        "  print(\"Your second guess was correct\")\n",
        "elif a==d:\n",
        "  print(\"You got it right on your final guess\")   \n",
        "else:\n",
        "  print(\"You failed to guess the number which was:\", a)\n",
        "  "
      ],
      "metadata": {
        "id": "gj9xojJPqWB1",
        "colab": {
          "base_uri": "https://localhost:8080/"
        },
        "outputId": "56c2a452-c5bf-4860-db60-5795591e12ea"
      },
      "execution_count": null,
      "outputs": [
        {
          "output_type": "stream",
          "name": "stdout",
          "text": [
            "input a number: 1\n",
            "input a number: 2\n",
            "input a number: 3\n",
            "you messed up the first time, but got it right on the second\n"
          ]
        }
      ]
    },
    {
      "cell_type": "code",
      "source": [
        "IQ = int(input(\"what is your IQ: \"))\n",
        "if IQ == 100:\n",
        "    print(\"Your IQ is normal\")\n",
        "elif IQ > 100 & IQ < 120\n",
        "    print(\"your IQ is on the higher side\")\n",
        "elif IQ > 120 & IQ < 140\n",
        "    print(\"Your IQ is superior\")\n",
        "elif IQ < 100 & IQ > 80\n",
        "    print(\"Your IQ is on the lower side\")\n",
        "elif IQ < 80\n",
        "    print(\"Your IQ doesn't define you, as it is just one way of measuring your intelligence\")\n",
        "else \n",
        "    print(\"Your IQ is in the top 1% and you are either a genius or a child prodigy\")"
      ],
      "metadata": {
        "colab": {
          "base_uri": "https://localhost:8080/",
          "height": 131
        },
        "id": "8QzSEtL-mtuU",
        "outputId": "6c886d23-b46a-43c3-d8b5-e2c85d77ee40"
      },
      "execution_count": null,
      "outputs": [
        {
          "output_type": "error",
          "ename": "SyntaxError",
          "evalue": "ignored",
          "traceback": [
            "\u001b[0;36m  File \u001b[0;32m\"<ipython-input-1-97604b7b3566>\"\u001b[0;36m, line \u001b[0;32m4\u001b[0m\n\u001b[0;31m    elif IQ > 100 & IQ < 120\u001b[0m\n\u001b[0m                            ^\u001b[0m\n\u001b[0;31mSyntaxError\u001b[0m\u001b[0;31m:\u001b[0m invalid syntax\n"
          ]
        }
      ]
    },
    {
      "cell_type": "code",
      "source": [
        "from typing_extensions import Self\n",
        "\n",
        "class ATM():\n",
        "    def __init__(self):\n",
        "     self.cardnumber = int(input(\"enter your card number\", ))\n",
        "     self.pin = int(input(\"enter your pin number\", ))\n",
        "     print(self.cardnumber, self.pin)\n",
        "    def print_balance(self):\n",
        "        print(\"your acount balance is 300,000 USD\")\n",
        "    def cash_withdrawal(self):\n",
        "        cash = int(input(\"how much cash do you wish to deposit\", ) )\n",
        "        print(\"you have deposited:\", cash )\n",
        "New_user = ATM()\n",
        "New_user.cash_withdrawal();\n",
        "New_user.print_balance();"
      ],
      "metadata": {
        "colab": {
          "base_uri": "https://localhost:8080/"
        },
        "id": "WnbRfDxjiE7x",
        "outputId": "59b290a9-8f38-41f9-a0ad-99b8db2c54c6"
      },
      "execution_count": 4,
      "outputs": [
        {
          "output_type": "stream",
          "name": "stdout",
          "text": [
            "enter your card number 878789656\n",
            "enter your pin number 7289579875348979\n",
            "878789656 7289579875348979\n",
            "how much cash do you wish to deposit 900\n",
            "you have deposited: 900\n",
            "your acount balance is 300,000 USD\n"
          ]
        }
      ]
    }
  ]
}